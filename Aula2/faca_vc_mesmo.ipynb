{
 "cells": [
  {
   "cell_type": "code",
   "execution_count": 1,
   "metadata": {},
   "outputs": [],
   "source": [
    "from pyspark.sql import SparkSession, functions as f\n",
    "from pyspark.sql.types import *"
   ]
  },
  {
   "cell_type": "code",
   "execution_count": 2,
   "metadata": {},
   "outputs": [
    {
     "name": "stderr",
     "output_type": "stream",
     "text": [
      "23/11/06 23:54:59 WARN Utils: Your hostname, VMSparkSAS resolves to a loopback address: 127.0.1.1; using 10.0.2.15 instead (on interface enp0s3)\n",
      "23/11/06 23:54:59 WARN Utils: Set SPARK_LOCAL_IP if you need to bind to another address\n",
      "Setting default log level to \"WARN\".\n",
      "To adjust logging level use sc.setLogLevel(newLevel). For SparkR, use setLogLevel(newLevel).\n",
      "23/11/06 23:54:59 WARN NativeCodeLoader: Unable to load native-hadoop library for your platform... using builtin-java classes where applicable\n",
      "23/11/06 23:55:00 WARN Utils: Service 'SparkUI' could not bind on port 4040. Attempting port 4041.\n"
     ]
    }
   ],
   "source": [
    "spark = SparkSession.builder.appName(\"faca_vc_mesmo_2\").getOrCreate()"
   ]
  },
  {
   "cell_type": "code",
   "execution_count": 5,
   "metadata": {},
   "outputs": [],
   "source": [
    "items_vendas = spark.read.format(\"parquet\").load(\"../data/download/Atividades/ItensVendas.parquet\")\n",
    "Clientes = spark.read.format(\"parquet\").load(\"../data/download/Atividades/Clientes.parquet\")\n",
    "Produtos = spark.read.format(\"parquet\").load(\"../data/download/Atividades/Produtos.parquet\")\n",
    "vendas = spark.read.format(\"parquet\").load(\"../data/download/Atividades/Vendas.parquet\")\n",
    "vendedores = spark.read.format(\"parquet\").load(\"../data/download/Atividades/Vendedores.parquet\")"
   ]
  },
  {
   "cell_type": "code",
   "execution_count": 7,
   "metadata": {},
   "outputs": [
    {
     "name": "stdout",
     "output_type": "stream",
     "text": [
      "+---------+--------------------+---------+\n",
      "|ProdutoID|             Produto|    Preco|\n",
      "+---------+--------------------+---------+\n",
      "|        1|Bicicleta Aro 29 ...|8.852,00 |\n",
      "|        2|Bicicleta Altools...|9.201,00 |\n",
      "|        3|Bicicleta Gts Adv...|4.255,00 |\n",
      "|        4|Bicicleta Trinc C...|7.658,00 |\n",
      "|        5|Bicicleta Gometws...|2.966,00 |\n",
      "|        6|Bicicleta Gometws...|2.955,00 |\n",
      "|        7|Capacete Gometws ...|  155,00 |\n",
      "|        8|Luva De Ciclismo ...|  188,00 |\n",
      "|        9|Bermuda Predactor...|  115,00 |\n",
      "|       10|Camiseta Predacto...|  135,00 |\n",
      "+---------+--------------------+---------+\n",
      "\n"
     ]
    }
   ],
   "source": [
    "Produtos.show()"
   ]
  },
  {
   "cell_type": "code",
   "execution_count": 8,
   "metadata": {},
   "outputs": [
    {
     "name": "stdout",
     "output_type": "stream",
     "text": [
      "+--------+----------+--------------------+\n",
      "|VendasID|ValorTotal|             Produto|\n",
      "+--------+----------+--------------------+\n",
      "|     400|   18402.0|Bicicleta Altools...|\n",
      "|     385|   18402.0|Bicicleta Altools...|\n",
      "|     395|   13784.4|Bicicleta Trinc C...|\n",
      "|     367|   13018.6|Bicicleta Trinc C...|\n",
      "|     380|  14077.54|Bicicleta Altools...|\n",
      "|     346|   16561.8|Bicicleta Altools...|\n",
      "|     339|   16561.8|Bicicleta Altools...|\n",
      "|     397|    9201.0|Bicicleta Altools...|\n",
      "|     346|   15933.6|Bicicleta Aro 29 ...|\n",
      "|     264|   16561.8|Bicicleta Altools...|\n",
      "|     355|  11716.74|Bicicleta Trinc C...|\n",
      "|     376|    8280.9|Bicicleta Altools...|\n",
      "|     374|    9201.0|Bicicleta Altools...|\n",
      "|     397|    7524.2|Bicicleta Aro 29 ...|\n",
      "|     303|   16561.8|Bicicleta Altools...|\n",
      "|     358|   13018.6|Bicicleta Trinc C...|\n",
      "|     374|    7658.0|Bicicleta Trinc C...|\n",
      "|     336|    8510.0|Bicicleta Gts Adv...|\n",
      "|     399|   6771.78|Bicicleta Aro 29 ...|\n",
      "|     292|  13543.56|Bicicleta Aro 29 ...|\n",
      "+--------+----------+--------------------+\n",
      "only showing top 20 rows\n",
      "\n"
     ]
    }
   ],
   "source": [
    "items_vendas_JOIN_produtos = items_vendas.join(Produtos,\"ProdutoID\").select(\"VendasID\",\"ValorTotal\",\"Produto\")\n",
    "items_vendas_JOIN_produtos.show()"
   ]
  },
  {
   "cell_type": "code",
   "execution_count": 11,
   "metadata": {},
   "outputs": [],
   "source": [
    "items_vendas_produtos_JOIN_Vendas = items_vendas_JOIN_produtos.join(vendas,\"VendasID\").select(\"ClienteID\",\"Data\",\"ValorTotal\",\"Produto\",\"VendedorID\")"
   ]
  },
  {
   "cell_type": "code",
   "execution_count": 12,
   "metadata": {},
   "outputs": [
    {
     "name": "stdout",
     "output_type": "stream",
     "text": [
      "+---------+----------+----------+--------------------+----------+\n",
      "|ClienteID|      Data|ValorTotal|             Produto|VendedorID|\n",
      "+---------+----------+----------+--------------------+----------+\n",
      "|      224|28/12/2019|   18402.0|Bicicleta Altools...|         6|\n",
      "|       60|15/12/2020|   18402.0|Bicicleta Altools...|         5|\n",
      "|       42|22/12/2018|   13784.4|Bicicleta Trinc C...|         5|\n",
      "|      116| 1/12/2020|   13018.6|Bicicleta Trinc C...|         3|\n",
      "|      225|12/12/2019|  14077.54|Bicicleta Altools...|         9|\n",
      "|       31|16/11/2018|   16561.8|Bicicleta Altools...|         6|\n",
      "|      101|10/11/2018|   16561.8|Bicicleta Altools...|         3|\n",
      "|       58|23/12/2019|    9201.0|Bicicleta Altools...|         5|\n",
      "|       31|16/11/2018|   15933.6|Bicicleta Aro 29 ...|         6|\n",
      "|      187|  5/9/2019|   16561.8|Bicicleta Altools...|         5|\n",
      "|        5|23/11/2019|  11716.74|Bicicleta Trinc C...|         5|\n",
      "|      178| 9/12/2020|    8280.9|Bicicleta Altools...|         7|\n",
      "|        5| 5/12/2019|    9201.0|Bicicleta Altools...|         1|\n",
      "|       58|23/12/2019|    7524.2|Bicicleta Aro 29 ...|         5|\n",
      "|       31|15/10/2020|   16561.8|Bicicleta Altools...|         1|\n",
      "|      101|24/11/2018|   13018.6|Bicicleta Trinc C...|         7|\n",
      "|        5| 5/12/2019|    7658.0|Bicicleta Trinc C...|         1|\n",
      "|        3| 7/11/2020|    8510.0|Bicicleta Gts Adv...|         5|\n",
      "|       58|25/12/2019|   6771.78|Bicicleta Aro 29 ...|         4|\n",
      "|        5| 29/9/2020|  13543.56|Bicicleta Aro 29 ...|         7|\n",
      "+---------+----------+----------+--------------------+----------+\n",
      "only showing top 20 rows\n",
      "\n"
     ]
    }
   ],
   "source": [
    "items_vendas_produtos_JOIN_Vendas.show()"
   ]
  },
  {
   "cell_type": "code",
   "execution_count": 13,
   "metadata": {},
   "outputs": [],
   "source": [
    "items_vendas_produtos_vendas_JOIN_Clientes = items_vendas_produtos_JOIN_Vendas.join(Clientes, \"ClienteID\").select(\"Cliente\",\"Data\",\"ValorTotal\",\"Produto\",\"VendedorID\")"
   ]
  },
  {
   "cell_type": "code",
   "execution_count": 14,
   "metadata": {},
   "outputs": [
    {
     "name": "stdout",
     "output_type": "stream",
     "text": [
      "+--------------------+----------+----------+--------------------+----------+\n",
      "|             Cliente|      Data|ValorTotal|             Produto|VendedorID|\n",
      "+--------------------+----------+----------+--------------------+----------+\n",
      "|    Humberto Almeida|28/12/2019|   18402.0|Bicicleta Altools...|         6|\n",
      "|   Bárbara Magalhães|15/12/2020|   18402.0|Bicicleta Altools...|         5|\n",
      "|        Artur Macedo|22/12/2018|   13784.4|Bicicleta Trinc C...|         5|\n",
      "|    Dinarte Tabalipa| 1/12/2020|   13018.6|Bicicleta Trinc C...|         3|\n",
      "|      Humberto Lemes|12/12/2019|  14077.54|Bicicleta Altools...|         9|\n",
      "|    Antão Corte-Real|16/11/2018|   16561.8|Bicicleta Altools...|         6|\n",
      "|Cândido Sousa do ...|10/11/2018|   16561.8|Bicicleta Altools...|         3|\n",
      "|      Brígida Gusmão|23/12/2019|    9201.0|Bicicleta Altools...|         5|\n",
      "|    Antão Corte-Real|16/11/2018|   15933.6|Bicicleta Aro 29 ...|         6|\n",
      "|   Gertrudes Rabello|  5/9/2019|   16561.8|Bicicleta Altools...|         5|\n",
      "|       Adélio Lisboa|23/11/2019|  11716.74|Bicicleta Trinc C...|         5|\n",
      "|   Francisca Ramallo| 9/12/2020|    8280.9|Bicicleta Altools...|         7|\n",
      "|       Adélio Lisboa| 5/12/2019|    9201.0|Bicicleta Altools...|         1|\n",
      "|      Brígida Gusmão|23/12/2019|    7524.2|Bicicleta Aro 29 ...|         5|\n",
      "|    Antão Corte-Real|15/10/2020|   16561.8|Bicicleta Altools...|         1|\n",
      "|Cândido Sousa do ...|24/11/2018|   13018.6|Bicicleta Trinc C...|         7|\n",
      "|       Adélio Lisboa| 5/12/2019|    7658.0|Bicicleta Trinc C...|         1|\n",
      "|     Adolfo Patrício| 7/11/2020|    8510.0|Bicicleta Gts Adv...|         5|\n",
      "|      Brígida Gusmão|25/12/2019|   6771.78|Bicicleta Aro 29 ...|         4|\n",
      "|       Adélio Lisboa| 29/9/2020|  13543.56|Bicicleta Aro 29 ...|         7|\n",
      "+--------------------+----------+----------+--------------------+----------+\n",
      "only showing top 20 rows\n",
      "\n"
     ]
    }
   ],
   "source": [
    "items_vendas_produtos_vendas_JOIN_Clientes.show()"
   ]
  },
  {
   "cell_type": "code",
   "execution_count": 15,
   "metadata": {},
   "outputs": [],
   "source": [
    "df_final = items_vendas_produtos_vendas_JOIN_Clientes.join(vendedores, \"VendedorID\").select(\"Cliente\",\"Data\",\"ValorTotal\",\"Produto\",\"Vendedor\")"
   ]
  },
  {
   "cell_type": "code",
   "execution_count": 16,
   "metadata": {},
   "outputs": [
    {
     "name": "stdout",
     "output_type": "stream",
     "text": [
      "+--------------------+----------+----------+--------------------+----------------+\n",
      "|             Cliente|      Data|ValorTotal|             Produto|        Vendedor|\n",
      "+--------------------+----------+----------+--------------------+----------------+\n",
      "|    Humberto Almeida|28/12/2019|   18402.0|Bicicleta Altools...|   Iberê Lacerda|\n",
      "|   Bárbara Magalhães|15/12/2020|   18402.0|Bicicleta Altools...|  Hélio Liberato|\n",
      "|        Artur Macedo|22/12/2018|   13784.4|Bicicleta Trinc C...|  Hélio Liberato|\n",
      "|    Dinarte Tabalipa| 1/12/2020|   13018.6|Bicicleta Trinc C...|   Daniel Pirajá|\n",
      "|      Humberto Lemes|12/12/2019|  14077.54|Bicicleta Altools...|    Simão Rivero|\n",
      "|    Antão Corte-Real|16/11/2018|   16561.8|Bicicleta Altools...|   Iberê Lacerda|\n",
      "|Cândido Sousa do ...|10/11/2018|   16561.8|Bicicleta Altools...|   Daniel Pirajá|\n",
      "|      Brígida Gusmão|23/12/2019|    9201.0|Bicicleta Altools...|  Hélio Liberato|\n",
      "|    Antão Corte-Real|16/11/2018|   15933.6|Bicicleta Aro 29 ...|   Iberê Lacerda|\n",
      "|   Gertrudes Rabello|  5/9/2019|   16561.8|Bicicleta Altools...|  Hélio Liberato|\n",
      "|       Adélio Lisboa|23/11/2019|  11716.74|Bicicleta Trinc C...|  Hélio Liberato|\n",
      "|   Francisca Ramallo| 9/12/2020|    8280.9|Bicicleta Altools...|Jéssica Castelão|\n",
      "|       Adélio Lisboa| 5/12/2019|    9201.0|Bicicleta Altools...|    Armando Lago|\n",
      "|      Brígida Gusmão|23/12/2019|    7524.2|Bicicleta Aro 29 ...|  Hélio Liberato|\n",
      "|    Antão Corte-Real|15/10/2020|   16561.8|Bicicleta Altools...|    Armando Lago|\n",
      "|Cândido Sousa do ...|24/11/2018|   13018.6|Bicicleta Trinc C...|Jéssica Castelão|\n",
      "|       Adélio Lisboa| 5/12/2019|    7658.0|Bicicleta Trinc C...|    Armando Lago|\n",
      "|     Adolfo Patrício| 7/11/2020|    8510.0|Bicicleta Gts Adv...|  Hélio Liberato|\n",
      "|      Brígida Gusmão|25/12/2019|   6771.78|Bicicleta Aro 29 ...| Godo Capiperibe|\n",
      "|       Adélio Lisboa| 29/9/2020|  13543.56|Bicicleta Aro 29 ...|Jéssica Castelão|\n",
      "+--------------------+----------+----------+--------------------+----------------+\n",
      "only showing top 20 rows\n",
      "\n"
     ]
    }
   ],
   "source": [
    "df_final.show()"
   ]
  },
  {
   "cell_type": "code",
   "execution_count": null,
   "metadata": {},
   "outputs": [],
   "source": []
  }
 ],
 "metadata": {
  "kernelspec": {
   "display_name": "venv",
   "language": "python",
   "name": "python3"
  },
  "language_info": {
   "codemirror_mode": {
    "name": "ipython",
    "version": 3
   },
   "file_extension": ".py",
   "mimetype": "text/x-python",
   "name": "python",
   "nbconvert_exporter": "python",
   "pygments_lexer": "ipython3",
   "version": "3.8.10"
  }
 },
 "nbformat": 4,
 "nbformat_minor": 2
}
