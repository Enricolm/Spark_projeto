{
 "cells": [
  {
   "cell_type": "code",
   "execution_count": 35,
   "metadata": {},
   "outputs": [],
   "source": [
    "from pyspark.sql import SparkSession ,functions as f\n",
    "import random"
   ]
  },
  {
   "cell_type": "code",
   "execution_count": 2,
   "metadata": {},
   "outputs": [
    {
     "name": "stderr",
     "output_type": "stream",
     "text": [
      "23/10/24 23:34:51 WARN Utils: Your hostname, udemySPark resolves to a loopback address: 127.0.1.1; using 10.0.2.15 instead (on interface enp0s3)\n",
      "23/10/24 23:34:51 WARN Utils: Set SPARK_LOCAL_IP if you need to bind to another address\n",
      "Setting default log level to \"WARN\".\n",
      "To adjust logging level use sc.setLogLevel(newLevel). For SparkR, use setLogLevel(newLevel).\n",
      "23/10/24 23:34:52 WARN NativeCodeLoader: Unable to load native-hadoop library for your platform... using builtin-java classes where applicable\n"
     ]
    }
   ],
   "source": [
    "spark = SparkSession.builder.appName(\"exemplordd\").getOrCreate()"
   ]
  },
  {
   "cell_type": "code",
   "execution_count": 3,
   "metadata": {},
   "outputs": [
    {
     "name": "stderr",
     "output_type": "stream",
     "text": [
      "                                                                                \r"
     ]
    },
    {
     "data": {
      "text/plain": [
       "[1, 2, 3, 4, 5]"
      ]
     },
     "execution_count": 3,
     "metadata": {},
     "output_type": "execute_result"
    }
   ],
   "source": [
    "data = [1,2,3,4,5,6]\n",
    "rdd = spark.sparkContext.parallelize(data)\n",
    "#vendo os 5 primeiros elementos do RDD\n",
    "rdd.take(5)"
   ]
  },
  {
   "cell_type": "code",
   "execution_count": 4,
   "metadata": {},
   "outputs": [
    {
     "data": {
      "text/plain": [
       "6"
      ]
     },
     "execution_count": 4,
     "metadata": {},
     "output_type": "execute_result"
    }
   ],
   "source": [
    "rdd.count()"
   ]
  },
  {
   "cell_type": "code",
   "execution_count": 5,
   "metadata": {},
   "outputs": [
    {
     "data": {
      "text/plain": [
       "3.5"
      ]
     },
     "execution_count": 5,
     "metadata": {},
     "output_type": "execute_result"
    }
   ],
   "source": [
    "rdd.mean()"
   ]
  },
  {
   "cell_type": "code",
   "execution_count": 6,
   "metadata": {},
   "outputs": [
    {
     "data": {
      "text/plain": [
       "21"
      ]
     },
     "execution_count": 6,
     "metadata": {},
     "output_type": "execute_result"
    }
   ],
   "source": [
    "rdd.sum()"
   ]
  },
  {
   "cell_type": "code",
   "execution_count": 7,
   "metadata": {},
   "outputs": [
    {
     "data": {
      "text/plain": [
       "1"
      ]
     },
     "execution_count": 7,
     "metadata": {},
     "output_type": "execute_result"
    }
   ],
   "source": [
    "rdd.min()"
   ]
  },
  {
   "cell_type": "code",
   "execution_count": 8,
   "metadata": {},
   "outputs": [
    {
     "data": {
      "text/plain": [
       "1.707825127659933"
      ]
     },
     "execution_count": 8,
     "metadata": {},
     "output_type": "execute_result"
    }
   ],
   "source": [
    "#Calculo do desvio padrao\n",
    "rdd.stdev()"
   ]
  },
  {
   "cell_type": "code",
   "execution_count": 11,
   "metadata": {},
   "outputs": [
    {
     "data": {
      "text/plain": [
       "[3, 4, 5, 6]"
      ]
     },
     "execution_count": 11,
     "metadata": {},
     "output_type": "execute_result"
    }
   ],
   "source": [
    "#filter com lambda\n",
    "filtro = rdd.filter(lambda filtro : filtro > 2)\n",
    "filtro.collect()"
   ]
  },
  {
   "cell_type": "code",
   "execution_count": 13,
   "metadata": {},
   "outputs": [
    {
     "data": {
      "text/plain": [
       "[2, 5, 6]"
      ]
     },
     "execution_count": 13,
     "metadata": {},
     "output_type": "execute_result"
    }
   ],
   "source": [
    "amostra = rdd.sample(True, 0.5, 1)\n",
    "amostra.collect()"
   ]
  },
  {
   "cell_type": "code",
   "execution_count": 15,
   "metadata": {},
   "outputs": [
    {
     "data": {
      "text/plain": [
       "[2, 4, 6, 8, 10, 12]"
      ]
     },
     "execution_count": 15,
     "metadata": {},
     "output_type": "execute_result"
    }
   ],
   "source": [
    "#Usando a function Map que aplica um operacao lambda em todos os elementos\n",
    "mapa = rdd.map(lambda conta : conta * 2)\n",
    "mapa.collect()"
   ]
  },
  {
   "cell_type": "code",
   "execution_count": 17,
   "metadata": {},
   "outputs": [
    {
     "data": {
      "text/plain": [
       "[1, 2, 3, 4, 5, 6, 7, 8, 9, 10]"
      ]
     },
     "execution_count": 17,
     "metadata": {},
     "output_type": "execute_result"
    }
   ],
   "source": [
    "data2 = [1,2,3,4,5,6,7,8,9,10]\n",
    "rdd2 = spark.sparkContext.parallelize(data2)\n",
    "rdd2.collect()"
   ]
  },
  {
   "cell_type": "code",
   "execution_count": 18,
   "metadata": {},
   "outputs": [
    {
     "data": {
      "text/plain": [
       "[1, 2, 3, 4, 5, 6, 1, 2, 3, 4, 5, 6, 7, 8, 9, 10]"
      ]
     },
     "execution_count": 18,
     "metadata": {},
     "output_type": "execute_result"
    }
   ],
   "source": [
    "#Agrupar os 2 RDD\n",
    "\n",
    "union = rdd.union(rdd2)\n",
    "union.collect()"
   ]
  },
  {
   "cell_type": "code",
   "execution_count": 21,
   "metadata": {},
   "outputs": [
    {
     "name": "stderr",
     "output_type": "stream",
     "text": [
      "                                                                                \r"
     ]
    },
    {
     "data": {
      "text/plain": [
       "[7, 8, 9, 10]"
      ]
     },
     "execution_count": 21,
     "metadata": {},
     "output_type": "execute_result"
    }
   ],
   "source": [
    "#subtrair os valores de uma tabela, caso a outra tenha os  mesmos\n",
    "subtract = rdd2.subtract(rdd)\n",
    "subtract.collect()\n"
   ]
  },
  {
   "cell_type": "code",
   "execution_count": 25,
   "metadata": {},
   "outputs": [
    {
     "data": {
      "text/plain": [
       "[6, 1, 2, 3, 4, 5]"
      ]
     },
     "execution_count": 25,
     "metadata": {},
     "output_type": "execute_result"
    }
   ],
   "source": [
    "# Pegar todos os valores que aparecem dentro das duas tabelas \n",
    "intersection_value = rdd.intersection(rdd2)\n",
    "intersection_value.collect()"
   ]
  },
  {
   "cell_type": "code",
   "execution_count": 29,
   "metadata": {},
   "outputs": [
    {
     "data": {
      "text/plain": [
       "[(1, 1),\n",
       " (1, 2),\n",
       " (1, 3),\n",
       " (2, 1),\n",
       " (2, 2),\n",
       " (2, 3),\n",
       " (1, 4),\n",
       " (1, 5),\n",
       " (1, 6),\n",
       " (2, 4),\n",
       " (2, 5),\n",
       " (2, 6),\n",
       " (1, 7),\n",
       " (1, 8),\n",
       " (1, 9),\n",
       " (2, 7),\n",
       " (2, 8),\n",
       " (2, 9),\n",
       " (1, 10),\n",
       " (2, 10),\n",
       " (3, 1),\n",
       " (3, 2),\n",
       " (3, 3),\n",
       " (4, 1),\n",
       " (4, 2),\n",
       " (4, 3),\n",
       " (3, 4),\n",
       " (3, 5),\n",
       " (3, 6),\n",
       " (4, 4),\n",
       " (4, 5),\n",
       " (4, 6),\n",
       " (3, 7),\n",
       " (3, 8),\n",
       " (3, 9),\n",
       " (4, 7),\n",
       " (4, 8),\n",
       " (4, 9),\n",
       " (3, 10),\n",
       " (4, 10),\n",
       " (5, 1),\n",
       " (5, 2),\n",
       " (5, 3),\n",
       " (6, 1),\n",
       " (6, 2),\n",
       " (6, 3),\n",
       " (5, 4),\n",
       " (5, 5),\n",
       " (5, 6),\n",
       " (6, 4),\n",
       " (6, 5),\n",
       " (6, 6),\n",
       " (5, 7),\n",
       " (5, 8),\n",
       " (5, 9),\n",
       " (6, 7),\n",
       " (6, 8),\n",
       " (6, 9),\n",
       " (5, 10),\n",
       " (6, 10)]"
      ]
     },
     "execution_count": 29,
     "metadata": {},
     "output_type": "execute_result"
    }
   ],
   "source": [
    "#realizar um plano cartesiano com os valores\n",
    "\n",
    "cartesian = rdd.cartesian(rdd2)\n",
    "cartesian.collect()"
   ]
  },
  {
   "cell_type": "code",
   "execution_count": 30,
   "metadata": {},
   "outputs": [
    {
     "data": {
      "text/plain": [
       "defaultdict(int,\n",
       "            {(1, 1): 1,\n",
       "             (1, 2): 1,\n",
       "             (1, 3): 1,\n",
       "             (2, 1): 1,\n",
       "             (2, 2): 1,\n",
       "             (2, 3): 1,\n",
       "             (1, 4): 1,\n",
       "             (1, 5): 1,\n",
       "             (1, 6): 1,\n",
       "             (2, 4): 1,\n",
       "             (2, 5): 1,\n",
       "             (2, 6): 1,\n",
       "             (1, 7): 1,\n",
       "             (1, 8): 1,\n",
       "             (1, 9): 1,\n",
       "             (2, 7): 1,\n",
       "             (2, 8): 1,\n",
       "             (2, 9): 1,\n",
       "             (1, 10): 1,\n",
       "             (2, 10): 1,\n",
       "             (3, 1): 1,\n",
       "             (3, 2): 1,\n",
       "             (3, 3): 1,\n",
       "             (4, 1): 1,\n",
       "             (4, 2): 1,\n",
       "             (4, 3): 1,\n",
       "             (3, 4): 1,\n",
       "             (3, 5): 1,\n",
       "             (3, 6): 1,\n",
       "             (4, 4): 1,\n",
       "             (4, 5): 1,\n",
       "             (4, 6): 1,\n",
       "             (3, 7): 1,\n",
       "             (3, 8): 1,\n",
       "             (3, 9): 1,\n",
       "             (4, 7): 1,\n",
       "             (4, 8): 1,\n",
       "             (4, 9): 1,\n",
       "             (3, 10): 1,\n",
       "             (4, 10): 1,\n",
       "             (5, 1): 1,\n",
       "             (5, 2): 1,\n",
       "             (5, 3): 1,\n",
       "             (6, 1): 1,\n",
       "             (6, 2): 1,\n",
       "             (6, 3): 1,\n",
       "             (5, 4): 1,\n",
       "             (5, 5): 1,\n",
       "             (5, 6): 1,\n",
       "             (6, 4): 1,\n",
       "             (6, 5): 1,\n",
       "             (6, 6): 1,\n",
       "             (5, 7): 1,\n",
       "             (5, 8): 1,\n",
       "             (5, 9): 1,\n",
       "             (6, 7): 1,\n",
       "             (6, 8): 1,\n",
       "             (6, 9): 1,\n",
       "             (5, 10): 1,\n",
       "             (6, 10): 1})"
      ]
     },
     "execution_count": 30,
     "metadata": {},
     "output_type": "execute_result"
    }
   ],
   "source": [
    "cartesian.countByValue()"
   ]
  },
  {
   "cell_type": "code",
   "execution_count": 34,
   "metadata": {},
   "outputs": [
    {
     "data": {
      "text/plain": [
       "defaultdict(int,\n",
       "            {2: 2, 4: 2, 6: 2, 8: 2, 10: 2, 12: 2, 14: 1, 16: 1, 18: 1, 20: 1})"
      ]
     },
     "execution_count": 34,
     "metadata": {},
     "output_type": "execute_result"
    }
   ],
   "source": [
    "#Teste Juntas os dois rdd`s multiplicar seus valores e ent contar eles \n",
    "\n",
    "valores_union = rdd.union(rdd2)\n",
    "valores_union_multiplie = valores_union.map(lambda calculo : calculo * 2)\n",
    "valores_union_multiplie.countByValue()\n"
   ]
  },
  {
   "cell_type": "code",
   "execution_count": 37,
   "metadata": {},
   "outputs": [
    {
     "data": {
      "text/plain": [
       "[(1, 902),\n",
       " (2, 637),\n",
       " (3, 241),\n",
       " (4, 410),\n",
       " (5, 928),\n",
       " (6, 412),\n",
       " (7, 515),\n",
       " (8, 756),\n",
       " (9, 233),\n",
       " (10, 218),\n",
       " (11, 914),\n",
       " (12, 938),\n",
       " (13, 494),\n",
       " (14, 569),\n",
       " (15, 894),\n",
       " (16, 596),\n",
       " (17, 905),\n",
       " (18, 631),\n",
       " (19, 453),\n",
       " (20, 477)]"
      ]
     },
     "execution_count": 37,
     "metadata": {},
     "output_type": "execute_result"
    }
   ],
   "source": [
    "rdd_cartesian = spark.sparkContext.parallelize([(i, random.randint(200, 1000)) for i in range(1, 21)])\n",
    "rdd_cartesian.collect()"
   ]
  },
  {
   "cell_type": "code",
   "execution_count": 39,
   "metadata": {},
   "outputs": [
    {
     "data": {
      "text/plain": [
       "[1, 2, 3, 4, 5, 6, 7, 8, 9, 10, 11, 12, 13, 14, 15, 16, 17, 18, 19, 20]"
      ]
     },
     "execution_count": 39,
     "metadata": {},
     "output_type": "execute_result"
    }
   ],
   "source": [
    "#Selecionar as Keys\n",
    "rdd_keys = rdd_cartesian.keys()\n",
    "rdd_keys.collect()"
   ]
  },
  {
   "cell_type": "code",
   "execution_count": 41,
   "metadata": {},
   "outputs": [
    {
     "data": {
      "text/plain": [
       "[902,\n",
       " 637,\n",
       " 241,\n",
       " 410,\n",
       " 928,\n",
       " 412,\n",
       " 515,\n",
       " 756,\n",
       " 233,\n",
       " 218,\n",
       " 914,\n",
       " 938,\n",
       " 494,\n",
       " 569,\n",
       " 894,\n",
       " 596,\n",
       " 905,\n",
       " 631,\n",
       " 453,\n",
       " 477]"
      ]
     },
     "execution_count": 41,
     "metadata": {},
     "output_type": "execute_result"
    }
   ],
   "source": [
    "#Selecionar os values\n",
    "rdd_values = rdd_cartesian.values()\n",
    "rdd_values.collect()"
   ]
  },
  {
   "cell_type": "code",
   "execution_count": 43,
   "metadata": {},
   "outputs": [
    {
     "data": {
      "text/plain": [
       "defaultdict(int,\n",
       "            {1: 1,\n",
       "             2: 1,\n",
       "             3: 1,\n",
       "             4: 1,\n",
       "             5: 1,\n",
       "             6: 1,\n",
       "             7: 1,\n",
       "             8: 1,\n",
       "             9: 1,\n",
       "             10: 1,\n",
       "             11: 1,\n",
       "             12: 1,\n",
       "             13: 1,\n",
       "             14: 1,\n",
       "             15: 1,\n",
       "             16: 1,\n",
       "             17: 1,\n",
       "             18: 1,\n",
       "             19: 1,\n",
       "             20: 1})"
      ]
     },
     "execution_count": 43,
     "metadata": {},
     "output_type": "execute_result"
    }
   ],
   "source": [
    "rdd_cartesian.countByKey()"
   ]
  },
  {
   "cell_type": "code",
   "execution_count": 44,
   "metadata": {},
   "outputs": [
    {
     "data": {
      "text/plain": [
       "defaultdict(int,\n",
       "            {(1, 902): 1,\n",
       "             (2, 637): 1,\n",
       "             (3, 241): 1,\n",
       "             (4, 410): 1,\n",
       "             (5, 928): 1,\n",
       "             (6, 412): 1,\n",
       "             (7, 515): 1,\n",
       "             (8, 756): 1,\n",
       "             (9, 233): 1,\n",
       "             (10, 218): 1,\n",
       "             (11, 914): 1,\n",
       "             (12, 938): 1,\n",
       "             (13, 494): 1,\n",
       "             (14, 569): 1,\n",
       "             (15, 894): 1,\n",
       "             (16, 596): 1,\n",
       "             (17, 905): 1,\n",
       "             (18, 631): 1,\n",
       "             (19, 453): 1,\n",
       "             (20, 477): 1})"
      ]
     },
     "execution_count": 44,
     "metadata": {},
     "output_type": "execute_result"
    }
   ],
   "source": [
    "rdd_cartesian.countByValue()"
   ]
  },
  {
   "cell_type": "code",
   "execution_count": 48,
   "metadata": {},
   "outputs": [
    {
     "data": {
      "text/plain": [
       "[(1, 1804),\n",
       " (2, 1274),\n",
       " (3, 482),\n",
       " (4, 820),\n",
       " (5, 1856),\n",
       " (6, 824),\n",
       " (7, 1030),\n",
       " (8, 1512),\n",
       " (9, 466),\n",
       " (10, 436),\n",
       " (11, 1828),\n",
       " (12, 1876),\n",
       " (13, 988),\n",
       " (14, 1138),\n",
       " (15, 1788),\n",
       " (16, 1192),\n",
       " (17, 1810),\n",
       " (18, 1262),\n",
       " (19, 906),\n",
       " (20, 954)]"
      ]
     },
     "execution_count": 48,
     "metadata": {},
     "output_type": "execute_result"
    }
   ],
   "source": [
    "rdd_cartesian = rdd_cartesian.mapValues(lambda valor : valor * 2)\n",
    "rdd_cartesian.collect()"
   ]
  },
  {
   "cell_type": "code",
   "execution_count": 51,
   "metadata": {},
   "outputs": [
    {
     "data": {
      "text/plain": [
       "[(1, 601.3333333333334),\n",
       " (2, 424.6666666666667),\n",
       " (3, 160.66666666666666),\n",
       " (4, 273.3333333333333),\n",
       " (5, 618.6666666666666),\n",
       " (6, 274.6666666666667),\n",
       " (7, 343.3333333333333),\n",
       " (8, 504.0),\n",
       " (9, 155.33333333333334),\n",
       " (10, 145.33333333333334),\n",
       " (11, 609.3333333333334),\n",
       " (12, 625.3333333333334),\n",
       " (13, 329.3333333333333),\n",
       " (14, 379.3333333333333),\n",
       " (15, 596.0),\n",
       " (16, 397.3333333333333),\n",
       " (17, 603.3333333333334),\n",
       " (18, 420.6666666666667),\n",
       " (19, 302.0),\n",
       " (20, 318.0)]"
      ]
     },
     "execution_count": 51,
     "metadata": {},
     "output_type": "execute_result"
    }
   ],
   "source": [
    "# Dividindo os valores\n",
    "divisor = rdd_cartesian.mapValues(lambda div : div / 3)\n",
    "divisor.collect()"
   ]
  },
  {
   "cell_type": "code",
   "execution_count": 52,
   "metadata": {},
   "outputs": [
    {
     "data": {
      "text/plain": [
       "[(1, 1804),\n",
       " (2, 1274),\n",
       " (3, 482),\n",
       " (4, 820),\n",
       " (5, 1856),\n",
       " (6, 824),\n",
       " (7, 1030),\n",
       " (8, 1512),\n",
       " (9, 466),\n",
       " (10, 436),\n",
       " (11, 1828),\n",
       " (12, 1876),\n",
       " (13, 988),\n",
       " (14, 1138),\n",
       " (15, 1788),\n",
       " (16, 1192),\n",
       " (17, 1810),\n",
       " (18, 1262),\n",
       " (19, 906),\n",
       " (20, 954)]"
      ]
     },
     "execution_count": 52,
     "metadata": {},
     "output_type": "execute_result"
    }
   ],
   "source": [
    "rdd_cartesian.collect()"
   ]
  },
  {
   "cell_type": "code",
   "execution_count": 53,
   "metadata": {},
   "outputs": [],
   "source": [
    "rdd_debitos = spark.sparkContext.parallelize([(i, random.randint(200, 1000)) for i in range(1, 21)])\n"
   ]
  },
  {
   "cell_type": "code",
   "execution_count": 56,
   "metadata": {},
   "outputs": [
    {
     "data": {
      "text/plain": [
       "[(6, (824, 412)),\n",
       " (12, (1876, 574)),\n",
       " (18, (1262, 951)),\n",
       " (1, (1804, 209)),\n",
       " (7, (1030, 729)),\n",
       " (13, (988, 498)),\n",
       " (19, (906, 355)),\n",
       " (2, (1274, 604)),\n",
       " (8, (1512, 482)),\n",
       " (14, (1138, 475)),\n",
       " (20, (954, 698)),\n",
       " (3, (482, 261)),\n",
       " (9, (466, 238)),\n",
       " (15, (1788, 730)),\n",
       " (4, (820, 496)),\n",
       " (10, (436, 633)),\n",
       " (16, (1192, 997)),\n",
       " (5, (1856, 328)),\n",
       " (11, (1828, 477)),\n",
       " (17, (1810, 632))]"
      ]
     },
     "execution_count": 56,
     "metadata": {},
     "output_type": "execute_result"
    }
   ],
   "source": [
    "rdd_juncao = rdd_cartesian.join(rdd_debitos)\n",
    "rdd_juncao.collect()"
   ]
  },
  {
   "cell_type": "code",
   "execution_count": 58,
   "metadata": {},
   "outputs": [
    {
     "data": {
      "text/plain": [
       "[(6, 412),\n",
       " (12, 1302),\n",
       " (18, 311),\n",
       " (1, 1595),\n",
       " (7, 301),\n",
       " (13, 490),\n",
       " (19, 551),\n",
       " (2, 670),\n",
       " (8, 1030),\n",
       " (14, 663),\n",
       " (20, 256),\n",
       " (3, 221),\n",
       " (9, 228),\n",
       " (15, 1058),\n",
       " (4, 324),\n",
       " (10, -197),\n",
       " (16, 195),\n",
       " (5, 1528),\n",
       " (11, 1351),\n",
       " (17, 1178)]"
      ]
     },
     "execution_count": 58,
     "metadata": {},
     "output_type": "execute_result"
    }
   ],
   "source": [
    "subtracao_debitos = rdd_juncao.mapValues(lambda valores : valores[0] - valores[1])\n",
    "subtracao_debitos.collect()"
   ]
  },
  {
   "cell_type": "code",
   "execution_count": 61,
   "metadata": {},
   "outputs": [
    {
     "data": {
      "text/plain": [
       "[(1, 1595),\n",
       " (2, 670),\n",
       " (3, 221),\n",
       " (4, 324),\n",
       " (5, 1528),\n",
       " (6, 412),\n",
       " (7, 301),\n",
       " (8, 1030),\n",
       " (9, 228),\n",
       " (10, -197),\n",
       " (11, 1351),\n",
       " (12, 1302),\n",
       " (13, 490),\n",
       " (14, 663),\n",
       " (15, 1058),\n",
       " (16, 195),\n",
       " (17, 1178),\n",
       " (18, 311),\n",
       " (19, 551),\n",
       " (20, 256)]"
      ]
     },
     "execution_count": 61,
     "metadata": {},
     "output_type": "execute_result"
    }
   ],
   "source": [
    "subtracao_debitos = subtracao_debitos.sortBy(lambda x : x[0])\n",
    "subtracao_debitos.collect()"
   ]
  },
  {
   "cell_type": "code",
   "execution_count": null,
   "metadata": {},
   "outputs": [],
   "source": []
  }
 ],
 "metadata": {
  "kernelspec": {
   "display_name": "venv",
   "language": "python",
   "name": "python3"
  },
  "language_info": {
   "codemirror_mode": {
    "name": "ipython",
    "version": 3
   },
   "file_extension": ".py",
   "mimetype": "text/x-python",
   "name": "python",
   "nbconvert_exporter": "python",
   "pygments_lexer": "ipython3",
   "version": "3.8.10"
  }
 },
 "nbformat": 4,
 "nbformat_minor": 2
}
