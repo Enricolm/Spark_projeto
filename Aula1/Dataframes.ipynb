{
 "cells": [
  {
   "cell_type": "code",
   "execution_count": 1,
   "metadata": {},
   "outputs": [],
   "source": [
    "from pyspark.sql import SparkSession, functions as f\n",
    "from pyspark.sql.types import StructType,StructField, StringType, IntegerType,FloatType"
   ]
  },
  {
   "cell_type": "code",
   "execution_count": 2,
   "metadata": {},
   "outputs": [
    {
     "name": "stderr",
     "output_type": "stream",
     "text": [
      "23/11/04 00:29:45 WARN Utils: Your hostname, VMSparkSAS resolves to a loopback address: 127.0.1.1; using 10.0.2.15 instead (on interface enp0s3)\n",
      "23/11/04 00:29:45 WARN Utils: Set SPARK_LOCAL_IP if you need to bind to another address\n",
      "Setting default log level to \"WARN\".\n",
      "To adjust logging level use sc.setLogLevel(newLevel). For SparkR, use setLogLevel(newLevel).\n",
      "23/11/04 00:29:50 WARN NativeCodeLoader: Unable to load native-hadoop library for your platform... using builtin-java classes where applicable\n"
     ]
    }
   ],
   "source": [
    "spark = SparkSession.builder.appName(\"Spark_builder\").getOrCreate()"
   ]
  },
  {
   "cell_type": "code",
   "execution_count": 3,
   "metadata": {},
   "outputs": [
    {
     "name": "stderr",
     "output_type": "stream",
     "text": [
      "                                                                                \r"
     ]
    },
    {
     "name": "stdout",
     "output_type": "stream",
     "text": [
      "+---+-------+\n",
      "| _1|     _2|\n",
      "+---+-------+\n",
      "|  0|Isabela|\n",
      "|  1| Enrico|\n",
      "+---+-------+\n",
      "\n"
     ]
    }
   ],
   "source": [
    "dados_list = [0,\"Isabela\"],[1, \"Enrico\"]\n",
    "dataFrame1 = spark.createDataFrame(dados_list)\n",
    "dataFrame1.show()"
   ]
  },
  {
   "cell_type": "markdown",
   "metadata": {},
   "source": [
    "Criando Dataframe com Schema"
   ]
  },
  {
   "cell_type": "code",
   "execution_count": 4,
   "metadata": {},
   "outputs": [],
   "source": [
    "# schema = StructType([\n",
    "#     StructField(\"Index\",IntegerType()),\n",
    "#     StructField(\"Nome\",StringType())\n",
    "# ])\n",
    "schema = \"Index INT, NOME STRING\"\n",
    "dados = [0,\"Enrico\"],[1,\"Cassio\"],[2,\"Yuri ALberto\"],[3,\"Isabela\"]"
   ]
  },
  {
   "cell_type": "code",
   "execution_count": 5,
   "metadata": {},
   "outputs": [],
   "source": [
    "dataFrame2 = spark.createDataFrame(dados,schema=schema)"
   ]
  },
  {
   "cell_type": "code",
   "execution_count": 6,
   "metadata": {},
   "outputs": [
    {
     "name": "stdout",
     "output_type": "stream",
     "text": [
      "+-----+------------+\n",
      "|Index|        NOME|\n",
      "+-----+------------+\n",
      "|    0|      Enrico|\n",
      "|    1|      Cassio|\n",
      "|    2|Yuri ALberto|\n",
      "|    3|     Isabela|\n",
      "+-----+------------+\n",
      "\n"
     ]
    }
   ],
   "source": [
    "dataFrame2.show()"
   ]
  },
  {
   "cell_type": "markdown",
   "metadata": {},
   "source": [
    "Usando Sum para uma funcao de agg"
   ]
  },
  {
   "cell_type": "code",
   "execution_count": 7,
   "metadata": {},
   "outputs": [],
   "source": [
    "vendas = [\n",
    "    {\"Loja\": \"Loja A\", \"Produto\": \"Produto 1\", \"Quantidade\": 20, \"Valor\": 30.50},\n",
    "    {\"Loja\": \"Loja B\", \"Produto\": \"Produto 2\", \"Quantidade\": 15, \"Valor\": 25.75},\n",
    "    {\"Loja\": \"Loja C\", \"Produto\": \"Produto 3\", \"Quantidade\": 10, \"Valor\": 15.20},\n",
    "    {\"Loja\": \"Loja D\", \"Produto\": \"Produto 4\", \"Quantidade\": 25, \"Valor\": 50.00},\n",
    "    {\"Loja\": \"Loja E\", \"Produto\": \"Produto 5\", \"Quantidade\": 12, \"Valor\": 40.80},\n",
    "    {\"Loja\": \"Loja F\", \"Produto\": \"Produto 1\", \"Quantidade\": 18, \"Valor\": 35.25},\n",
    "    {\"Loja\": \"Loja G\", \"Produto\": \"Produto 2\", \"Quantidade\": 22, \"Valor\": 28.90},\n",
    "    {\"Loja\": \"Loja H\", \"Produto\": \"Produto 3\", \"Quantidade\": 30, \"Valor\": 20.15},\n",
    "    {\"Loja\": \"Loja I\", \"Produto\": \"Produto 4\", \"Quantidade\": 17, \"Valor\": 45.60},\n",
    "    {\"Loja\": \"Loja J\", \"Produto\": \"Produto 5\", \"Quantidade\": 14, \"Valor\": 55.30}\n",
    "]\n",
    "vendas.extend([\n",
    "    {\"Loja\": \"Loja A\", \"Produto\": \"Produto 6\", \"Quantidade\": 8, \"Valor\": 18.75},\n",
    "    {\"Loja\": \"Loja B\", \"Produto\": \"Produto 7\", \"Quantidade\": 19, \"Valor\": 22.40},\n",
    "    {\"Loja\": \"Loja C\", \"Produto\": \"Produto 8\", \"Quantidade\": 14, \"Valor\": 33.90},\n",
    "    {\"Loja\": \"Loja D\", \"Produto\": \"Produto 9\", \"Quantidade\": 27, \"Valor\": 48.50},\n",
    "    {\"Loja\": \"Loja E\", \"Produto\": \"Produto 10\", \"Quantidade\": 11, \"Valor\": 38.60},\n",
    "    {\"Loja\": \"Loja F\", \"Produto\": \"Produto 6\", \"Quantidade\": 23, \"Valor\": 29.75},\n",
    "    {\"Loja\": \"Loja G\", \"Produto\": \"Produto 7\", \"Quantidade\": 16, \"Valor\": 16.20},\n",
    "    {\"Loja\": \"Loja H\", \"Produto\": \"Produto 8\", \"Quantidade\": 32, \"Valor\": 42.80},\n",
    "    {\"Loja\": \"Loja I\", \"Produto\": \"Produto 9\", \"Quantidade\": 21, \"Valor\": 55.00},\n",
    "    {\"Loja\": \"Loja J\", \"Produto\": \"Produto 10\", \"Quantidade\": 13, \"Valor\": 27.45},\n",
    "])"
   ]
  },
  {
   "cell_type": "code",
   "execution_count": 8,
   "metadata": {},
   "outputs": [],
   "source": [
    "schema = StructType([\n",
    "    StructField(\"Loja\",StringType()),\n",
    "    StructField(\"Produto\",StringType()),\n",
    "    StructField(\"Quantidade\",IntegerType()),\n",
    "    StructField(\"Valor\",FloatType()),\n",
    "])\n",
    "dados_vendas = spark.createDataFrame(vendas, schema=schema)"
   ]
  },
  {
   "cell_type": "code",
   "execution_count": 9,
   "metadata": {},
   "outputs": [
    {
     "name": "stdout",
     "output_type": "stream",
     "text": [
      "+------+---------+----------+-----+\n",
      "|  Loja|  Produto|Quantidade|Valor|\n",
      "+------+---------+----------+-----+\n",
      "|Loja A|Produto 1|        20| 30.5|\n",
      "|Loja B|Produto 2|        15|25.75|\n",
      "|Loja C|Produto 3|        10| 15.2|\n",
      "|Loja D|Produto 4|        25| 50.0|\n",
      "|Loja E|Produto 5|        12| 40.8|\n",
      "+------+---------+----------+-----+\n",
      "only showing top 5 rows\n",
      "\n"
     ]
    }
   ],
   "source": [
    "dados_vendas.show(5)"
   ]
  },
  {
   "cell_type": "code",
   "execution_count": 10,
   "metadata": {},
   "outputs": [],
   "source": [
    "df_vendas_lojas = dados_vendas.select(\"Loja\",\"Produto\",f.expr(\"Quantidade * Valor\").alias(\"Valor_Total_Produto\"))"
   ]
  },
  {
   "cell_type": "code",
   "execution_count": 11,
   "metadata": {},
   "outputs": [
    {
     "name": "stderr",
     "output_type": "stream",
     "text": [
      "                                                                                \r"
     ]
    },
    {
     "name": "stdout",
     "output_type": "stream",
     "text": [
      "+------+---------+-------------------+\n",
      "|  Loja|  Produto|Valor_Total_Produto|\n",
      "+------+---------+-------------------+\n",
      "|Loja A|Produto 1|              610.0|\n",
      "|Loja B|Produto 2|             386.25|\n",
      "|Loja C|Produto 3|              152.0|\n",
      "|Loja D|Produto 4|             1250.0|\n",
      "|Loja E|Produto 5|          489.59998|\n",
      "+------+---------+-------------------+\n",
      "only showing top 5 rows\n",
      "\n"
     ]
    }
   ],
   "source": [
    "df_vendas_lojas.show(5)"
   ]
  },
  {
   "cell_type": "code",
   "execution_count": 12,
   "metadata": {},
   "outputs": [],
   "source": [
    "df_vendas_totais_por_loja = df_vendas_lojas.groupBy(\"Loja\").agg(f.sum(\"Valor_Total_Produto\").alias(\"Rendimento_da_Loja\"))\n",
    "df_vendas_totais_por_loja = df_vendas_totais_por_loja.withColumn(\"Rendimento_da_Loja\",f.round(\"Rendimento_da_Loja\",2))\n",
    "df_vendas_totais_por_loja = df_vendas_totais_por_loja.sort(\"Loja\")"
   ]
  },
  {
   "cell_type": "code",
   "execution_count": 13,
   "metadata": {},
   "outputs": [
    {
     "name": "stderr",
     "output_type": "stream",
     "text": [
      "[Stage 4:>                                                          (0 + 1) / 1]\r"
     ]
    },
    {
     "name": "stderr",
     "output_type": "stream",
     "text": [
      "                                                                                \r"
     ]
    },
    {
     "name": "stdout",
     "output_type": "stream",
     "text": [
      "+------+------------------+\n",
      "|  Loja|Rendimento_da_Loja|\n",
      "+------+------------------+\n",
      "|Loja A|             760.0|\n",
      "|Loja B|            811.85|\n",
      "|Loja C|             626.6|\n",
      "|Loja D|            2559.5|\n",
      "|Loja E|             914.2|\n",
      "+------+------------------+\n",
      "only showing top 5 rows\n",
      "\n"
     ]
    }
   ],
   "source": [
    "df_vendas_totais_por_loja.show(5)"
   ]
  },
  {
   "cell_type": "code",
   "execution_count": 14,
   "metadata": {},
   "outputs": [
    {
     "name": "stdout",
     "output_type": "stream",
     "text": [
      "root\n",
      " |-- Loja: string (nullable = true)\n",
      " |-- Rendimento_da_Loja: double (nullable = true)\n",
      "\n"
     ]
    }
   ],
   "source": [
    "df_vendas_totais_por_loja.printSchema()"
   ]
  },
  {
   "cell_type": "markdown",
   "metadata": {},
   "source": [
    "Lendo os arquivos e criando um Schema"
   ]
  },
  {
   "cell_type": "code",
   "execution_count": 15,
   "metadata": {},
   "outputs": [],
   "source": [
    "schema = StructType([\n",
    "    StructField(\"ID\",IntegerType()),\n",
    "    StructField(\"Nome\",StringType()),\n",
    "    StructField(\"Status\",StringType()),\n",
    "    StructField(\"Localizacao\",StringType()),\n",
    "    StructField(\"Vendas\",IntegerType()),\n",
    "    StructField(\"Data\",StringType()),\n",
    "])"
   ]
  },
  {
   "cell_type": "code",
   "execution_count": 16,
   "metadata": {},
   "outputs": [],
   "source": [
    "dados = spark.read.csv(\"/home/enricolm/Documents/curso_spark_udemy/data/despachantes.csv\",sep=\",\",schema=schema)"
   ]
  },
  {
   "cell_type": "code",
   "execution_count": 17,
   "metadata": {},
   "outputs": [
    {
     "name": "stderr",
     "output_type": "stream",
     "text": [
      "[Stage 7:>                                                          (0 + 1) / 1]\r"
     ]
    },
    {
     "name": "stdout",
     "output_type": "stream",
     "text": [
      "+---+-------------------+------+-------------+------+----------+\n",
      "| ID|               Nome|Status|  Localizacao|Vendas|      Data|\n",
      "+---+-------------------+------+-------------+------+----------+\n",
      "|  1|   Carminda Pestana| Ativo|  Santa Maria|    23|2020-08-11|\n",
      "|  2|    Deolinda Vilela| Ativo|Novo Hamburgo|    34|2020-03-05|\n",
      "|  3|   Emídio Dornelles| Ativo| Porto Alegre|    34|2020-02-05|\n",
      "|  4|Felisbela Dornelles| Ativo| Porto Alegre|    36|2020-02-05|\n",
      "|  5|     Graça Ornellas| Ativo| Porto Alegre|    12|2020-02-05|\n",
      "+---+-------------------+------+-------------+------+----------+\n",
      "only showing top 5 rows\n",
      "\n"
     ]
    },
    {
     "name": "stderr",
     "output_type": "stream",
     "text": [
      "                                                                                \r"
     ]
    }
   ],
   "source": [
    "dados.show(5)"
   ]
  },
  {
   "cell_type": "code",
   "execution_count": 18,
   "metadata": {},
   "outputs": [
    {
     "name": "stdout",
     "output_type": "stream",
     "text": [
      "root\n",
      " |-- ID: integer (nullable = true)\n",
      " |-- Nome: string (nullable = true)\n",
      " |-- Status: string (nullable = true)\n",
      " |-- Localizacao: string (nullable = true)\n",
      " |-- Vendas: integer (nullable = true)\n",
      " |-- Data: string (nullable = true)\n",
      "\n"
     ]
    }
   ],
   "source": [
    "dados.printSchema()"
   ]
  },
  {
   "cell_type": "code",
   "execution_count": 19,
   "metadata": {},
   "outputs": [
    {
     "name": "stdout",
     "output_type": "stream",
     "text": [
      "+----------+-------------------+------+\n",
      "|      Data|               Nome|Vendas|\n",
      "+----------+-------------------+------+\n",
      "|2020-03-05|      Roque Vásquez|    65|\n",
      "|2018-05-05|      Uriel Queiroz|    54|\n",
      "|2019-10-05|    Noêmia   Orriça|    45|\n",
      "|2020-02-05|Felisbela Dornelles|    36|\n",
      "|2020-03-05|    Deolinda Vilela|    34|\n",
      "|2020-02-05|   Emídio Dornelles|    34|\n",
      "|2020-08-11|   Carminda Pestana|    23|\n",
      "|2019-01-05|   Matilde Rebouças|    22|\n",
      "|2020-02-05|     Graça Ornellas|    12|\n",
      "|2020-09-05|   Viviana Sequeira|     0|\n",
      "+----------+-------------------+------+\n",
      "\n"
     ]
    }
   ],
   "source": [
    "dados.select(\"Data\",\"Nome\",\"Vendas\").orderBy(f.desc(\"Vendas\")).show()"
   ]
  },
  {
   "cell_type": "code",
   "execution_count": 20,
   "metadata": {},
   "outputs": [
    {
     "name": "stdout",
     "output_type": "stream",
     "text": [
      "+---+-------------------+------+-------------+------+----------+\n",
      "| ID|               Nome|Status|  Localizacao|Vendas|      Data|\n",
      "+---+-------------------+------+-------------+------+----------+\n",
      "|  8|      Roque Vásquez| Ativo| Porto Alegre|    65|2020-03-05|\n",
      "|  9|      Uriel Queiroz| Ativo| Porto Alegre|    54|2018-05-05|\n",
      "|  7|    Noêmia   Orriça| Ativo|  Santa Maria|    45|2019-10-05|\n",
      "|  4|Felisbela Dornelles| Ativo| Porto Alegre|    36|2020-02-05|\n",
      "|  2|    Deolinda Vilela| Ativo|Novo Hamburgo|    34|2020-03-05|\n",
      "|  3|   Emídio Dornelles| Ativo| Porto Alegre|    34|2020-02-05|\n",
      "|  1|   Carminda Pestana| Ativo|  Santa Maria|    23|2020-08-11|\n",
      "|  6|   Matilde Rebouças| Ativo| Porto Alegre|    22|2019-01-05|\n",
      "+---+-------------------+------+-------------+------+----------+\n",
      "\n"
     ]
    }
   ],
   "source": [
    "dados.select(\"*\").where(f.col(\"Vendas\") > 20).orderBy(f.desc(\"Vendas\")).show()"
   ]
  },
  {
   "cell_type": "code",
   "execution_count": 21,
   "metadata": {},
   "outputs": [
    {
     "name": "stdout",
     "output_type": "stream",
     "text": [
      "+---+-------------------+------+-------------+------+----------+\n",
      "| ID|               Nome|Status|  Localizacao|Vendas|      Data|\n",
      "+---+-------------------+------+-------------+------+----------+\n",
      "|  1|   Carminda Pestana| Ativo|  Santa Maria|    23|2020-08-11|\n",
      "|  2|    Deolinda Vilela| Ativo|Novo Hamburgo|    34|2020-03-05|\n",
      "|  3|   Emídio Dornelles| Ativo| Porto Alegre|    34|2020-02-05|\n",
      "|  4|Felisbela Dornelles| Ativo| Porto Alegre|    36|2020-02-05|\n",
      "|  5|     Graça Ornellas| Ativo| Porto Alegre|    12|2020-02-05|\n",
      "|  6|   Matilde Rebouças| Ativo| Porto Alegre|    22|2019-01-05|\n",
      "| 10|   Viviana Sequeira| Ativo| Porto Alegre|     0|2020-09-05|\n",
      "+---+-------------------+------+-------------+------+----------+\n",
      "\n"
     ]
    }
   ],
   "source": [
    "dados.select(\"*\").where((f.col(\"Status\") == \"Ativo\") & (f.col(\"Vendas\") < 40)).show()"
   ]
  },
  {
   "cell_type": "code",
   "execution_count": 22,
   "metadata": {},
   "outputs": [
    {
     "data": {
      "text/plain": [
       "10"
      ]
     },
     "execution_count": 22,
     "metadata": {},
     "output_type": "execute_result"
    }
   ],
   "source": [
    "dados.count()"
   ]
  },
  {
   "cell_type": "code",
   "execution_count": 23,
   "metadata": {},
   "outputs": [],
   "source": [
    "dados_anos = dados.withColumn(\"Data_Year\", f.year(f.to_timestamp(\"Data\",\"yyyy-MM-dd\")))"
   ]
  },
  {
   "cell_type": "code",
   "execution_count": 24,
   "metadata": {},
   "outputs": [
    {
     "name": "stdout",
     "output_type": "stream",
     "text": [
      "+---+-------------------+------+-------------+------+----------+---------+\n",
      "| ID|               Nome|Status|  Localizacao|Vendas|      Data|Data_Year|\n",
      "+---+-------------------+------+-------------+------+----------+---------+\n",
      "|  1|   Carminda Pestana| Ativo|  Santa Maria|    23|2020-08-11|     2020|\n",
      "|  2|    Deolinda Vilela| Ativo|Novo Hamburgo|    34|2020-03-05|     2020|\n",
      "|  3|   Emídio Dornelles| Ativo| Porto Alegre|    34|2020-02-05|     2020|\n",
      "|  4|Felisbela Dornelles| Ativo| Porto Alegre|    36|2020-02-05|     2020|\n",
      "|  5|     Graça Ornellas| Ativo| Porto Alegre|    12|2020-02-05|     2020|\n",
      "|  6|   Matilde Rebouças| Ativo| Porto Alegre|    22|2019-01-05|     2019|\n",
      "|  7|    Noêmia   Orriça| Ativo|  Santa Maria|    45|2019-10-05|     2019|\n",
      "|  8|      Roque Vásquez| Ativo| Porto Alegre|    65|2020-03-05|     2020|\n",
      "|  9|      Uriel Queiroz| Ativo| Porto Alegre|    54|2018-05-05|     2018|\n",
      "| 10|   Viviana Sequeira| Ativo| Porto Alegre|     0|2020-09-05|     2020|\n",
      "+---+-------------------+------+-------------+------+----------+---------+\n",
      "\n"
     ]
    }
   ],
   "source": [
    "dados_anos.show()"
   ]
  },
  {
   "cell_type": "code",
   "execution_count": 25,
   "metadata": {},
   "outputs": [
    {
     "name": "stdout",
     "output_type": "stream",
     "text": [
      "+---------+\n",
      "|Data_Year|\n",
      "+---------+\n",
      "|     2018|\n",
      "|     2019|\n",
      "|     2020|\n",
      "+---------+\n",
      "\n"
     ]
    }
   ],
   "source": [
    "dados_anos.select(f.col(\"Data_Year\")).distinct().show()"
   ]
  },
  {
   "cell_type": "code",
   "execution_count": 26,
   "metadata": {},
   "outputs": [
    {
     "name": "stderr",
     "output_type": "stream",
     "text": [
      "[Stage 18:>                                                         (0 + 1) / 1]\r"
     ]
    },
    {
     "name": "stdout",
     "output_type": "stream",
     "text": [
      "+---------+-----------+\n",
      "|Data_Year|Soma_Vendas|\n",
      "+---------+-----------+\n",
      "|     2020|        204|\n",
      "|     2019|         67|\n",
      "|     2018|         54|\n",
      "+---------+-----------+\n",
      "\n"
     ]
    },
    {
     "name": "stderr",
     "output_type": "stream",
     "text": [
      "                                                                                \r"
     ]
    }
   ],
   "source": [
    "dados_anos.groupBy(f.col(\"Data_Year\"))\\\n",
    "    .agg(f.sum(\"Vendas\")\\\n",
    "         .alias(\"Soma_Vendas\"))\\\n",
    "            .orderBy(f.desc(\"Data_Year\"))\\\n",
    "                .show()"
   ]
  },
  {
   "cell_type": "code",
   "execution_count": 27,
   "metadata": {},
   "outputs": [],
   "source": [
    "dados_anos = dados_anos.drop(\"Data\")"
   ]
  },
  {
   "cell_type": "code",
   "execution_count": 28,
   "metadata": {},
   "outputs": [
    {
     "data": {
      "text/plain": [
       "<bound method DataFrame.select of DataFrame[ID: int, Nome: string, Status: string, Localizacao: string, Vendas: int, Data_Year: int]>"
      ]
     },
     "execution_count": 28,
     "metadata": {},
     "output_type": "execute_result"
    }
   ],
   "source": [
    "dados_anos.select"
   ]
  },
  {
   "cell_type": "code",
   "execution_count": 29,
   "metadata": {},
   "outputs": [
    {
     "name": "stderr",
     "output_type": "stream",
     "text": [
      "[Stage 21:>                                                         (0 + 1) / 1]\r"
     ]
    },
    {
     "name": "stdout",
     "output_type": "stream",
     "text": [
      "+-------------+------+\n",
      "|  Localizacao|Vendas|\n",
      "+-------------+------+\n",
      "| Porto Alegre|   223|\n",
      "|  Santa Maria|    68|\n",
      "|Novo Hamburgo|    34|\n",
      "+-------------+------+\n",
      "\n"
     ]
    },
    {
     "name": "stderr",
     "output_type": "stream",
     "text": [
      "                                                                                \r"
     ]
    }
   ],
   "source": [
    "dados_anos.groupBy(\"Localizacao\").agg(f.sum(\"Vendas\").alias(\"Vendas\")).orderBy(f.col(\"Vendas\").desc(),f.col(\"Localizacao\").desc()).show()"
   ]
  },
  {
   "cell_type": "code",
   "execution_count": 30,
   "metadata": {},
   "outputs": [
    {
     "name": "stdout",
     "output_type": "stream",
     "text": [
      "+---------+------+\n",
      "|Data_Year|Vendas|\n",
      "+---------+------+\n",
      "|     2018|    54|\n",
      "|     2019|    67|\n",
      "|     2020|   204|\n",
      "+---------+------+\n",
      "\n"
     ]
    }
   ],
   "source": [
    "dados_anos.select(\"*\").groupBy(\"Data_Year\").agg(f.sum(\"Vendas\").alias(\"Vendas\")).show()"
   ]
  },
  {
   "cell_type": "code",
   "execution_count": 31,
   "metadata": {},
   "outputs": [
    {
     "name": "stdout",
     "output_type": "stream",
     "text": [
      "+---+-------------------+------+-------------+------+---------+\n",
      "| ID|               Nome|Status|  Localizacao|Vendas|Data_Year|\n",
      "+---+-------------------+------+-------------+------+---------+\n",
      "|  7|    Noêmia   Orriça| Ativo|  Santa Maria|    45|     2019|\n",
      "|  1|   Carminda Pestana| Ativo|  Santa Maria|    23|     2020|\n",
      "|  8|      Roque Vásquez| Ativo| Porto Alegre|    65|     2020|\n",
      "|  9|      Uriel Queiroz| Ativo| Porto Alegre|    54|     2018|\n",
      "|  4|Felisbela Dornelles| Ativo| Porto Alegre|    36|     2020|\n",
      "|  3|   Emídio Dornelles| Ativo| Porto Alegre|    34|     2020|\n",
      "|  6|   Matilde Rebouças| Ativo| Porto Alegre|    22|     2019|\n",
      "|  5|     Graça Ornellas| Ativo| Porto Alegre|    12|     2020|\n",
      "| 10|   Viviana Sequeira| Ativo| Porto Alegre|     0|     2020|\n",
      "|  2|    Deolinda Vilela| Ativo|Novo Hamburgo|    34|     2020|\n",
      "+---+-------------------+------+-------------+------+---------+\n",
      "\n"
     ]
    }
   ],
   "source": [
    "dados_anos.select(\"*\").orderBy(f.col(\"Localizacao\").desc(),f.col(\"Vendas\").desc()).show()"
   ]
  },
  {
   "cell_type": "code",
   "execution_count": 32,
   "metadata": {},
   "outputs": [],
   "source": [
    "list_dados_novos = [\n",
    "    (8, \"Carlos\", \"Ativo\", \"Porto Alegre\", 30, 2019),\n",
    "    (9, \"Ana\", \"Inativo\", \"São Paulo\", 20, 2019),\n",
    "    (18, \"Mariana\", \"Ativo\", \"Rio de Janeiro\", 50, 2019),\n",
    "    (11, \"Pedro\", \"Inativo\", \"Belo Horizonte\", 40, 2019),\n",
    "    (12, \"Larissa\", \"Ativo\", \"Recife\", 35, 2019),\n",
    "    (13, \"Fernando\", \"Inativo\", \"Salvador\", 25, 2019),\n",
    "    (14, \"Isabela\", \"Ativo\", \"Brasília\", 60, 2019),\n",
    "    (15, \"Lucas\", \"Inativo\", \"Fortaleza\", 15, 2019),\n",
    "    (16, \"Camila\", \"Ativo\", \"Curitiba\", 55, 2019),\n",
    "    (17, \"Rafael\", \"Inativo\", \"Manaus\", 22, 2019)\n",
    "]\n",
    "dados_rdd_despachantes = spark.sparkContext.parallelize(list_dados_novos)"
   ]
  },
  {
   "cell_type": "code",
   "execution_count": 33,
   "metadata": {},
   "outputs": [],
   "source": [
    "dados_add = spark.createDataFrame(dados_rdd_despachantes, schema=schema)"
   ]
  },
  {
   "cell_type": "code",
   "execution_count": 34,
   "metadata": {},
   "outputs": [],
   "source": [
    "dados_year = dados_add.union(dados_anos)"
   ]
  },
  {
   "cell_type": "code",
   "execution_count": 35,
   "metadata": {},
   "outputs": [],
   "source": [
    "dados_year = dados_year.orderBy(\"ID\") \n"
   ]
  },
  {
   "cell_type": "code",
   "execution_count": 36,
   "metadata": {},
   "outputs": [
    {
     "name": "stderr",
     "output_type": "stream",
     "text": [
      "[Stage 28:=============================>                            (1 + 1) / 2]\r"
     ]
    },
    {
     "name": "stdout",
     "output_type": "stream",
     "text": [
      "+---+-------------------+-------+--------------+------+----+\n",
      "| ID|               Nome| Status|   Localizacao|Vendas|Data|\n",
      "+---+-------------------+-------+--------------+------+----+\n",
      "|  1|   Carminda Pestana|  Ativo|   Santa Maria|    23|2020|\n",
      "|  2|    Deolinda Vilela|  Ativo| Novo Hamburgo|    34|2020|\n",
      "|  3|   Emídio Dornelles|  Ativo|  Porto Alegre|    34|2020|\n",
      "|  4|Felisbela Dornelles|  Ativo|  Porto Alegre|    36|2020|\n",
      "|  5|     Graça Ornellas|  Ativo|  Porto Alegre|    12|2020|\n",
      "|  6|   Matilde Rebouças|  Ativo|  Porto Alegre|    22|2019|\n",
      "|  7|    Noêmia   Orriça|  Ativo|   Santa Maria|    45|2019|\n",
      "|  8|             Carlos|  Ativo|  Porto Alegre|    30|2019|\n",
      "|  8|      Roque Vásquez|  Ativo|  Porto Alegre|    65|2020|\n",
      "|  9|                Ana|Inativo|     São Paulo|    20|2019|\n",
      "|  9|      Uriel Queiroz|  Ativo|  Porto Alegre|    54|2018|\n",
      "| 10|   Viviana Sequeira|  Ativo|  Porto Alegre|     0|2020|\n",
      "| 11|              Pedro|Inativo|Belo Horizonte|    40|2019|\n",
      "| 12|            Larissa|  Ativo|        Recife|    35|2019|\n",
      "| 13|           Fernando|Inativo|      Salvador|    25|2019|\n",
      "| 14|            Isabela|  Ativo|      Brasília|    60|2019|\n",
      "| 15|              Lucas|Inativo|     Fortaleza|    15|2019|\n",
      "| 16|             Camila|  Ativo|      Curitiba|    55|2019|\n",
      "| 17|             Rafael|Inativo|        Manaus|    22|2019|\n",
      "| 18|            Mariana|  Ativo|Rio de Janeiro|    50|2019|\n",
      "+---+-------------------+-------+--------------+------+----+\n",
      "\n"
     ]
    },
    {
     "name": "stderr",
     "output_type": "stream",
     "text": [
      "                                                                                \r"
     ]
    }
   ],
   "source": [
    "dados_year.show()"
   ]
  },
  {
   "cell_type": "code",
   "execution_count": 37,
   "metadata": {},
   "outputs": [
    {
     "name": "stdout",
     "output_type": "stream",
     "text": [
      "+---+--------+-------+--------------+------+----+\n",
      "| ID|    Nome| Status|   Localizacao|Vendas|Data|\n",
      "+---+--------+-------+--------------+------+----+\n",
      "| 11|   Pedro|Inativo|Belo Horizonte|    40|2019|\n",
      "| 13|Fernando|Inativo|      Salvador|    25|2019|\n",
      "+---+--------+-------+--------------+------+----+\n",
      "\n"
     ]
    }
   ],
   "source": [
    "dados_year.filter((f.col(\"Status\") == \"Inativo\" )& (f.col(\"Vendas\") > 24)).show()"
   ]
  },
  {
   "cell_type": "code",
   "execution_count": 38,
   "metadata": {},
   "outputs": [
    {
     "name": "stderr",
     "output_type": "stream",
     "text": [
      "[Stage 30:=============================>                            (1 + 1) / 2]\r"
     ]
    },
    {
     "name": "stdout",
     "output_type": "stream",
     "text": [
      "+--------------+------+\n",
      "|   Localizacao|Vendas|\n",
      "+--------------+------+\n",
      "|     São Paulo|    20|\n",
      "|   Santa Maria|    68|\n",
      "|      Salvador|    25|\n",
      "|Rio de Janeiro|    50|\n",
      "|        Recife|    35|\n",
      "|  Porto Alegre|   253|\n",
      "| Novo Hamburgo|    34|\n",
      "|        Manaus|    22|\n",
      "|     Fortaleza|    15|\n",
      "|      Curitiba|    55|\n",
      "|      Brasília|    60|\n",
      "|Belo Horizonte|    40|\n",
      "+--------------+------+\n",
      "\n"
     ]
    },
    {
     "name": "stderr",
     "output_type": "stream",
     "text": [
      "                                                                                \r"
     ]
    }
   ],
   "source": [
    "dados_year.groupBy(\"Localizacao\").agg(f.sum(\"Vendas\").alias(\"Vendas\")).orderBy(f.col(\"Localizacao\").desc()).show()"
   ]
  },
  {
   "cell_type": "code",
   "execution_count": 40,
   "metadata": {},
   "outputs": [
    {
     "name": "stderr",
     "output_type": "stream",
     "text": [
      "                                                                                \r"
     ]
    }
   ],
   "source": [
    "Clientes = spark.read.format(\"parquet\")\\\n",
    "    .load(\"/home/enricolm/Documents/curso_spark_udemy/data/download/Atividades/Clientes.parquet\")"
   ]
  },
  {
   "cell_type": "code",
   "execution_count": 42,
   "metadata": {},
   "outputs": [
    {
     "name": "stderr",
     "output_type": "stream",
     "text": [
      "[Stage 34:>                                                         (0 + 1) / 1]\r"
     ]
    },
    {
     "name": "stdout",
     "output_type": "stream",
     "text": [
      "+--------------------+------+--------+\n",
      "|             Cliente|Estado|  Status|\n",
      "+--------------------+------+--------+\n",
      "|Adelina Buenaventura|    RJ|  Silver|\n",
      "|        Adelino Gago|    RJ|  Silver|\n",
      "|     Adolfo Patrício|    PE|  Silver|\n",
      "|    Adriana Guedelha|    RO|Platinum|\n",
      "|       Adélio Lisboa|    SE|  Silver|\n",
      "|       Adérito Bahía|    MA|  Silver|\n",
      "|       Aida Dorneles|    RN|  Silver|\n",
      "|   Alarico Quinterno|    AC|  Silver|\n",
      "|    Alberto Cezimbra|    AM|  Silver|\n",
      "|    Alberto Monsanto|    RN|    Gold|\n",
      "|       Albino Canela|    AC|  Silver|\n",
      "|     Alceste Varanda|    RR|  Silver|\n",
      "|  Alcides Carvalhais|    RO|  Silver|\n",
      "|        Aldo Martins|    GO|  Silver|\n",
      "|   Alexandra Tabares|    MG|  Silver|\n",
      "|      Alfredo Cotrim|    SC|  Silver|\n",
      "|     Almeno Figueira|    SC|  Silver|\n",
      "|      Alvito Peralta|    AM|  Silver|\n",
      "|     Amadeu Martinho|    RN|  Silver|\n",
      "|      Amélia Estévez|    PE|  Silver|\n",
      "+--------------------+------+--------+\n",
      "only showing top 20 rows\n",
      "\n"
     ]
    },
    {
     "name": "stderr",
     "output_type": "stream",
     "text": [
      "                                                                                \r"
     ]
    }
   ],
   "source": [
    "Clientes.select(\"Cliente\",\"Estado\",\"Status\").orderBy(\"Cliente\").show()"
   ]
  },
  {
   "cell_type": "code",
   "execution_count": 47,
   "metadata": {},
   "outputs": [
    {
     "name": "stdout",
     "output_type": "stream",
     "text": [
      "+-------------------+\n",
      "|            Cliente|\n",
      "+-------------------+\n",
      "|   Adriana Guedelha|\n",
      "|   Alberto Monsanto|\n",
      "|      Anna Carvajal|\n",
      "|      Bento Quintão|\n",
      "|      Carminda Dias|\n",
      "|      Cláudio Jorge|\n",
      "|    Dionísio Saltão|\n",
      "|   Firmino Meireles|\n",
      "|      Flor Vilanova|\n",
      "|Honorina Villaverde|\n",
      "|    Ibijara Botelho|\n",
      "|  Iracema Rodríguez|\n",
      "|         Joana Ataí|\n",
      "+-------------------+\n",
      "\n"
     ]
    }
   ],
   "source": [
    "Clientes.select(\"Cliente\").filter((f.col(\"Status\") == \"Platinum\") | (f.col(\"Status\") == \"Gold\")).show()"
   ]
  },
  {
   "cell_type": "code",
   "execution_count": 48,
   "metadata": {},
   "outputs": [],
   "source": [
    "Vendas_df = spark.read.format(\"parquet\").load(\"/home/enricolm/Documents/curso_spark_udemy/data/download/Atividades/Vendas.parquet\")"
   ]
  },
  {
   "cell_type": "code",
   "execution_count": 49,
   "metadata": {},
   "outputs": [
    {
     "name": "stdout",
     "output_type": "stream",
     "text": [
      "+--------+----------+---------+---------+--------+\n",
      "|VendasID|VendedorID|ClienteID|     Data|   Total|\n",
      "+--------+----------+---------+---------+--------+\n",
      "|       1|         1|       91| 1/1/2019|  8053.6|\n",
      "|       2|         6|      185| 1/1/2020|   150.4|\n",
      "|       3|         7|       31| 2/1/2020|  6087.0|\n",
      "|       4|         5|       31| 2/1/2019| 13828.6|\n",
      "|       5|         5|       31| 3/1/2018|26096.66|\n",
      "|       6|         5|       31| 4/1/2020| 18402.0|\n",
      "|       7|         5|       31| 6/1/2019|  7524.2|\n",
      "|       8|         5|      186| 6/1/2019| 12036.6|\n",
      "|       9|         7|       91| 6/1/2020| 2804.75|\n",
      "|      10|         2|      202| 6/1/2020|  8852.0|\n",
      "|      11|         7|       58| 8/1/2019|16545.25|\n",
      "|      12|         7|       58| 9/1/2018|11411.88|\n",
      "|      13|         7|       58|10/1/2019| 15829.7|\n",
      "|      14|         3|      249|12/1/2020| 6154.36|\n",
      "|      15|         4|      249|12/1/2018| 3255.08|\n",
      "|      16|         7|      192|13/1/2020| 2901.25|\n",
      "|      17|         2|       79|13/1/2019| 15829.7|\n",
      "|      18|        10|       79|14/1/2019|16996.36|\n",
      "|      19|        10|      191|14/1/2019|   155.0|\n",
      "|      20|         9|      218|15/1/2018|  131.75|\n",
      "+--------+----------+---------+---------+--------+\n",
      "only showing top 20 rows\n",
      "\n"
     ]
    }
   ],
   "source": [
    "Vendas_df.show()"
   ]
  },
  {
   "cell_type": "code",
   "execution_count": 50,
   "metadata": {},
   "outputs": [],
   "source": [
    "Vendas_join_Clientes = Vendas_df.join(Clientes,\"ClienteID\")"
   ]
  },
  {
   "cell_type": "code",
   "execution_count": 53,
   "metadata": {},
   "outputs": [],
   "source": [
    "Vendas_join_Clientes = Vendas_join_Clientes.orderBy(\"ClienteID\")"
   ]
  },
  {
   "cell_type": "code",
   "execution_count": 58,
   "metadata": {},
   "outputs": [
    {
     "name": "stdout",
     "output_type": "stream",
     "text": [
      "+---------+----------+-----------------+-------+--------+\n",
      "|ClienteID|      Data|          Cliente|  Total|  Status|\n",
      "+---------+----------+-----------------+-------+--------+\n",
      "|       49|21/12/2019|    Bento Quintão| 8435.9|    Gold|\n",
      "|       83| 2/10/2020|    Cláudio Jorge|6683.79|    Gold|\n",
      "|      230|24/11/2020|  Ibijara Botelho| 422.78|Platinum|\n",
      "|      230|25/11/2020|  Ibijara Botelho|12161.9|Platinum|\n",
      "|      237| 6/10/2019|Iracema Rodríguez|12167.0|    Gold|\n",
      "+---------+----------+-----------------+-------+--------+\n",
      "\n"
     ]
    }
   ],
   "source": [
    "Vendas_join_Clientes.select(\"ClienteID\",\"Data\",\"Cliente\",\"Total\",\"Status\").filter((f.col(\"Status\") == \"Platinum\") | (f.col(\"Status\") == \"Gold\")).orderBy(\"ClienteID\").show()"
   ]
  },
  {
   "cell_type": "code",
   "execution_count": 64,
   "metadata": {},
   "outputs": [
    {
     "name": "stdout",
     "output_type": "stream",
     "text": [
      "+------------------+\n",
      "|Platinum_Represent|\n",
      "+------------------+\n",
      "|          12584.68|\n",
      "+------------------+\n",
      "\n"
     ]
    }
   ],
   "source": [
    "Vendas_join_Clientes.select(\"ClienteID\",\"Data\",\"Cliente\",\"Total\",\"Status\").filter((f.col(\"Status\") == \"Platinum\")).agg(f.sum(\"Total\").alias(\"Platinum_Represent\")).show()"
   ]
  },
  {
   "cell_type": "code",
   "execution_count": 65,
   "metadata": {},
   "outputs": [
    {
     "name": "stdout",
     "output_type": "stream",
     "text": [
      "+------------------+\n",
      "|Platinum_Represent|\n",
      "+------------------+\n",
      "|          27286.69|\n",
      "+------------------+\n",
      "\n"
     ]
    }
   ],
   "source": [
    "Vendas_join_Clientes.select(\"ClienteID\",\"Data\",\"Cliente\",\"Total\",\"Status\").filter((f.col(\"Status\") == \"Gold\")).agg(f.sum(\"Total\").alias(\"Platinum_Represent\")).show()"
   ]
  },
  {
   "cell_type": "code",
   "execution_count": 66,
   "metadata": {},
   "outputs": [
    {
     "name": "stdout",
     "output_type": "stream",
     "text": [
      "+------------------+\n",
      "|Platinum_Represent|\n",
      "+------------------+\n",
      "|        3014291.36|\n",
      "+------------------+\n",
      "\n"
     ]
    }
   ],
   "source": [
    "Vendas_join_Clientes.select(\"ClienteID\",\"Data\",\"Cliente\",\"Total\",\"Status\").filter((f.col(\"Status\") == \"Silver\")).agg(f.sum(\"Total\").alias(\"Platinum_Represent\")).show()"
   ]
  },
  {
   "cell_type": "code",
   "execution_count": 68,
   "metadata": {},
   "outputs": [
    {
     "name": "stdout",
     "output_type": "stream",
     "text": [
      "+--------+----------+\n",
      "|  Status|     Total|\n",
      "+--------+----------+\n",
      "|Platinum|  12584.68|\n",
      "|  Silver|3014291.36|\n",
      "|    Gold|  27286.69|\n",
      "+--------+----------+\n",
      "\n"
     ]
    }
   ],
   "source": [
    "Vendas_join_Clientes.groupBy(\"Status\").agg(f.sum(\"Total\").alias(\"Total\")).distinct().show()"
   ]
  },
  {
   "cell_type": "code",
   "execution_count": 69,
   "metadata": {},
   "outputs": [
    {
     "name": "stdout",
     "output_type": "stream",
     "text": [
      "root\n",
      " |-- ClienteID: long (nullable = true)\n",
      " |-- VendasID: long (nullable = true)\n",
      " |-- VendedorID: long (nullable = true)\n",
      " |-- Data: string (nullable = true)\n",
      " |-- Total: double (nullable = true)\n",
      " |-- Cliente: string (nullable = true)\n",
      " |-- Estado: string (nullable = true)\n",
      " |-- Genero: string (nullable = true)\n",
      " |-- Status: string (nullable = true)\n",
      "\n"
     ]
    }
   ],
   "source": [
    "Vendas_join_Clientes.printSchema()"
   ]
  },
  {
   "cell_type": "code",
   "execution_count": 70,
   "metadata": {},
   "outputs": [],
   "source": [
    "spark.stop()"
   ]
  },
  {
   "cell_type": "code",
   "execution_count": null,
   "metadata": {},
   "outputs": [],
   "source": []
  }
 ],
 "metadata": {
  "kernelspec": {
   "display_name": "venv",
   "language": "python",
   "name": "python3"
  },
  "language_info": {
   "codemirror_mode": {
    "name": "ipython",
    "version": 3
   },
   "file_extension": ".py",
   "mimetype": "text/x-python",
   "name": "python",
   "nbconvert_exporter": "python",
   "pygments_lexer": "ipython3",
   "version": "3.8.10"
  }
 },
 "nbformat": 4,
 "nbformat_minor": 2
}
